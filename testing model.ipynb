{
  "nbformat": 4,
  "nbformat_minor": 0,
  "metadata": {
    "colab": {
      "provenance": []
    },
    "kernelspec": {
      "name": "python3",
      "display_name": "Python 3"
    },
    "language_info": {
      "name": "python"
    }
  },
  "cells": [
    {
      "cell_type": "code",
      "execution_count": 3,
      "metadata": {
        "colab": {
          "base_uri": "https://localhost:8080/"
        },
        "id": "bOdH8U8usBtc",
        "outputId": "3b4d6906-a753-4bfe-a517-7c5d2d05df5a"
      },
      "outputs": [
        {
          "output_type": "stream",
          "name": "stderr",
          "text": [
            "/usr/local/lib/python3.11/dist-packages/torch/nn/modules/transformer.py:379: UserWarning: enable_nested_tensor is True, but self.use_nested_tensor is False because encoder_layer.self_attn.batch_first was not True(use batch_first for better inference performance)\n",
            "  warnings.warn(\n",
            "<ipython-input-3-3bb4f308eb15>:39: FutureWarning: You are using `torch.load` with `weights_only=False` (the current default value), which uses the default pickle module implicitly. It is possible to construct malicious pickle data which will execute arbitrary code during unpickling (See https://github.com/pytorch/pytorch/blob/main/SECURITY.md#untrusted-models for more details). In a future release, the default value for `weights_only` will be flipped to `True`. This limits the functions that could be executed during unpickling. Arbitrary objects will no longer be allowed to be loaded via this mode unless they are explicitly allowlisted by the user via `torch.serialization.add_safe_globals`. We recommend you start setting `weights_only=True` for any use case where you don't have full control of the loaded file. Please open an issue on GitHub for any issues related to this experimental feature.\n",
            "  model.load_state_dict(torch.load(\"transformer_model.pth\", map_location=device))\n"
          ]
        },
        {
          "output_type": "stream",
          "name": "stdout",
          "text": [
            "Generated Pseudocode:\n",
            " x; x\n"
          ]
        }
      ],
      "source": [
        "import torch\n",
        "import torch.nn as nn\n",
        "import sentencepiece as spm\n",
        "import pandas as pd\n",
        "\n",
        "# Load Dataset & Train BPE Tokenizer\n",
        "df = pd.read_csv(\"spoc-train.csv\").dropna()\n",
        "\n",
        "cpp_file = \"cpp.txt\"\n",
        "pseudo_file = \"pseudocode.txt\"\n",
        "df[\"code\"].to_csv(cpp_file, index=False, header=False)\n",
        "df[\"text\"].to_csv(pseudo_file, index=False, header=False)\n",
        "\n",
        "spm.SentencePieceTrainer.train(input=f\"{cpp_file},{pseudo_file}\", model_prefix=\"bpe\", vocab_size=8000)\n",
        "\n",
        "# Load Trained Tokenizer\n",
        "sp = spm.SentencePieceProcessor()\n",
        "sp.load(\"bpe.model\")\n",
        "\n",
        "# Define Transformer Model\n",
        "class TransformerModel(nn.Module):\n",
        "    def __init__(self, vocab_size, d_model=256, nhead=8, num_layers=4):\n",
        "        super().__init__()\n",
        "        self.embedding = nn.Embedding(vocab_size, d_model)\n",
        "        self.transformer = nn.Transformer(d_model=d_model, nhead=nhead, num_encoder_layers=num_layers, num_decoder_layers=num_layers)\n",
        "        self.fc_out = nn.Linear(d_model, vocab_size)\n",
        "\n",
        "    def forward(self, src, tgt):\n",
        "        src = self.embedding(src).permute(1, 0, 2)\n",
        "        tgt = self.embedding(tgt).permute(1, 0, 2)\n",
        "        output = self.transformer(src, tgt)\n",
        "        return self.fc_out(output).permute(1, 0, 2)\n",
        "\n",
        "# Load Pretrained Transformer Model\n",
        "vocab_size = 16000\n",
        "device = \"cuda\" if torch.cuda.is_available() else \"cpu\"\n",
        "\n",
        "model = TransformerModel(vocab_size).to(device)\n",
        "model.load_state_dict(torch.load(\"transformer_model.pth\", map_location=device))\n",
        "model.eval()\n",
        "\n",
        "# Inference Function\n",
        "def generate(model, tokenizer, code):\n",
        "    with torch.no_grad():\n",
        "        code_ids = tokenizer.encode(code, out_type=int)\n",
        "        code_tensor = torch.tensor(code_ids).unsqueeze(0).to(device)\n",
        "        output = model(code_tensor, code_tensor)\n",
        "        predicted_ids = torch.argmax(output, dim=-1).squeeze().tolist()\n",
        "        return tokenizer.decode(predicted_ids)\n",
        "\n",
        "# Run Inference\n",
        "sample_code = \"\"\"\n",
        "        int x;\n",
        "\"\"\"\n",
        "predicted_pseudo = generate(model, sp, sample_code)\n",
        "print(\"Generated Pseudocode:\\n\", predicted_pseudo)\n"
      ]
    },
    {
      "cell_type": "code",
      "source": [
        "# Run Inference\n",
        "sample_code = \"\"\"\n",
        "        char x, y,z= 5\n",
        "\"\"\"\n",
        "predicted_pseudo = generate(model, sp, sample_code)\n",
        "print(\"Generated Pseudocode:\\n\", predicted_pseudo)\n"
      ],
      "metadata": {
        "colab": {
          "base_uri": "https://localhost:8080/"
        },
        "id": "fadL5hvltMnl",
        "outputId": "7e61766c-4da3-4e24-dd76-e48d5b3434ef"
      },
      "execution_count": 18,
      "outputs": [
        {
          "output_type": "stream",
          "name": "stdout",
          "text": [
            "Generated Pseudocode:\n",
            " x, y= y, 5 char\n"
          ]
        }
      ]
    }
  ]
}